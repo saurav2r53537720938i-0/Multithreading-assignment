{
 "cells": [
  {
   "cell_type": "markdown",
   "id": "28f7826c-9c32-4ab2-b838-4a896c51e929",
   "metadata": {},
   "source": [
    "Multithreading in python involes ruuning multiple threads(smaller units of a process) concurrently to improve program performance by executing\n",
    "tasks concurrently.it is used to efficency utilize cpu resources, especially in scenrios with i/o-bound task.The threading module is commonly used in python to handle threads"
   ]
  },
  {
   "cell_type": "markdown",
   "id": "bf1d3c74-aef9-4c82-9846-8579e4a35509",
   "metadata": {},
   "source": [
    "The threading module in python is used for creating and managing threads. Here are explanation for the mention function:"
   ]
  },
  {
   "cell_type": "markdown",
   "id": "ab114aba-f1d6-479b-be59-7010d6eb92fd",
   "metadata": {},
   "source": [
    "1.Activecount():This function is used to get the number of threads object currently alive .it returns the number of Threads object that have been created and not yet terminated "
   ]
  },
  {
   "cell_type": "markdown",
   "id": "aa58f557-a962-43d2-a417-022aa29ce331",
   "metadata": {},
   "source": [
    "2.CurrentThread():This function returns the current Threads object corresponding to the caller's thread of control."
   ]
  },
  {
   "cell_type": "markdown",
   "id": "8c0a972f-873d-40e9-979f-e70d6a31c489",
   "metadata": {},
   "source": [
    "3.Enumerate():This function returns a list of all thread objects currently alive.The list includes daemonic threads,dummy thread object created by current_thread and the main thread it is particularly useful for obtaining a list of all active threads for inspection or manipulation. "
   ]
  },
  {
   "cell_type": "markdown",
   "id": "0fe8ceaf-605c-417b-a6fd-627c57dacacc",
   "metadata": {},
   "source": [
    "1.Run():This method represent the code to be executed by the thread when a thread is created using the threading.Threading class ,you can subclass it and override the run () method to define the code that will be run in the new thread."
   ]
  },
  {
   "cell_type": "markdown",
   "id": "41649b47-4696-421e-b9ec-c607f6aedb49",
   "metadata": {},
   "source": [
    "2. Start():This method is used to start a thread's activity.it intiates the run() method in a seprate thread of control.it's important to note that the run() method should not be called directly;instead ,use start() to launch the thread. "
   ]
  },
  {
   "cell_type": "markdown",
   "id": "5ed0ea4f-8b62-411b-9f49-699408ee73c9",
   "metadata": {},
   "source": [
    "3.Joint([timeout]): The joint() method is used to wait for the thread to complete its exceution if the optional timeout argument is specfied,the join() method will blocks for at most that many second .The thread terminates of untill the thread terminates of untill the timeout expires"
   ]
  },
  {
   "cell_type": "markdown",
   "id": "e0831ae6-8a61-4980-840d-b8ff2cfc0f09",
   "metadata": {},
   "source": [
    "4.Isalive():This method return boolean indicating whether the thread is alive or has complte its exceution .A thread is  considered alive if it has been started and has not yet terminated the isAlive()method is useful for checking the stauts of a thread before decding tp perform completion."
   ]
  },
  {
   "cell_type": "code",
   "execution_count": 4,
   "id": "52e007b2-4c72-4d39-beec-ef56bffc39d5",
   "metadata": {},
   "outputs": [],
   "source": [
    "import threading\n",
    "def print_squares():\n",
    "    for i in range (1,6):\n",
    "        print(f\"square of {i}:{i**2}\")\n",
    "        \n",
    "def print_cubes():\n",
    "     for i in range(1,6):\n",
    "        print(f\"cube of {i}: {i**3}\")"
   ]
  },
  {
   "cell_type": "code",
   "execution_count": 5,
   "id": "8c9434b2-08ca-4976-b04e-4b87151e5bcc",
   "metadata": {},
   "outputs": [],
   "source": [
    "thread_square = threading.Thread(target = print_squares)\n",
    "thread_cube = threading.Thread(target = print_cubes)"
   ]
  },
  {
   "cell_type": "code",
   "execution_count": 6,
   "id": "680ab7cb-7c9f-4e97-a526-8aef076a7806",
   "metadata": {},
   "outputs": [
    {
     "name": "stdout",
     "output_type": "stream",
     "text": [
      "square of 1:1\n",
      "square of 2:4\n",
      "square of 3:9\n",
      "square of 4:16\n",
      "square of 5:25\n",
      "cube of 1: 1\n",
      "cube of 2: 8\n",
      "cube of 3: 27\n",
      "cube of 4: 64\n",
      "cube of 5: 125\n"
     ]
    }
   ],
   "source": [
    "thread_square.start()\n",
    "thread_cube.start()"
   ]
  },
  {
   "cell_type": "code",
   "execution_count": 7,
   "id": "93b5d5c9-55f7-4e79-b5e5-e0345c8b53e3",
   "metadata": {},
   "outputs": [],
   "source": [
    "thread_square.join()\n",
    "thread_cube.join()"
   ]
  },
  {
   "cell_type": "markdown",
   "id": "62e600cd-1545-4c18-b1be-9f0d695a94f6",
   "metadata": {},
   "source": [
    "Advantage of multithreading:"
   ]
  },
  {
   "cell_type": "markdown",
   "id": "8a5a358b-b6ca-4a22-9b22-0ed685573b58",
   "metadata": {},
   "source": [
    "1. improved performance:\n",
    "2. responsivess:\n",
    "3. resource sharing:\n",
    "4. prallelism:\n",
    "5. simplified code structure:"
   ]
  },
  {
   "cell_type": "markdown",
   "id": "f47f4d97-2340-4431-be20-908c0c2ca9c6",
   "metadata": {},
   "source": [
    "Disadvantage of multithreading:"
   ]
  },
  {
   "cell_type": "markdown",
   "id": "f5f5e776-5eb6-4a1d-87d5-64c7e78120ed",
   "metadata": {},
   "source": [
    "1. complexity:\n",
    "2. race condtion\n",
    "3. deadlocks:\n",
    "4. diffculty in debygging:\n",
    "5. overhead:"
   ]
  },
  {
   "cell_type": "markdown",
   "id": "babf9ea0-09a9-477b-846b-47de3150d24d",
   "metadata": {},
   "source": [
    "Deadlocks: A deadlocks occur in a multithread or multithread or multiprocess system when two or more threads or process are unable to process because each is wating for the other to realease a resource a resource.in other words,a deadlock is a state where a set of process are blocked beacause each process is holding beacause each process is holding a resource and wating for another resources accquired by some other process.the tour necessary condtion for a deadlock are:"
   ]
  },
  {
   "cell_type": "markdown",
   "id": "4443a068-2ff3-4d29-bf55-fbc0cd544699",
   "metadata": {},
   "source": [
    "1. mutual exclusion:\n",
    "2. hold and wait:\n",
    "3. no preemption:\n",
    "4. circular wait:"
   ]
  },
  {
   "cell_type": "markdown",
   "id": "c1febc0d-d83a-4605-ae8a-66b790d3c559",
   "metadata": {},
   "source": [
    "Race Condtions: A race condtions occurs when the behaviour of a program depends on the realative timing of events,such as the order in which threads are scheduled to run.it arises when multiple threads acess shared data concurrently,and at least one of them modifies the data . The outcome becomes unpredicatable and depends on the interleaving of the thread's exceution"
   ]
  },
  {
   "cell_type": "code",
   "execution_count": null,
   "id": "1dcd8b62-14b7-47fe-b790-7117cd021241",
   "metadata": {},
   "outputs": [],
   "source": [
    "1. shared data:\n",
    "2. at least one "
   ]
  }
 ],
 "metadata": {
  "kernelspec": {
   "display_name": "Python 3 (ipykernel)",
   "language": "python",
   "name": "python3"
  },
  "language_info": {
   "codemirror_mode": {
    "name": "ipython",
    "version": 3
   },
   "file_extension": ".py",
   "mimetype": "text/x-python",
   "name": "python",
   "nbconvert_exporter": "python",
   "pygments_lexer": "ipython3",
   "version": "3.10.8"
  }
 },
 "nbformat": 4,
 "nbformat_minor": 5
}
